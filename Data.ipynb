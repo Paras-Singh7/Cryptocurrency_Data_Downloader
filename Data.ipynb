{
 "cells": [
  {
   "cell_type": "code",
   "execution_count": 1,
   "id": "RIQjE1FYOEWL",
   "metadata": {
    "colab": {
     "base_uri": "https://localhost:8080/",
     "height": 35
    },
    "executionInfo": {
     "elapsed": 661,
     "status": "ok",
     "timestamp": 1658808421337,
     "user": {
      "displayName": "Paras Singh",
      "userId": "11045139175501549941"
     },
     "user_tz": -330
    },
    "id": "RIQjE1FYOEWL",
    "outputId": "65e85ed6-c1be-4301-d21a-5484c0f1232f"
   },
   "outputs": [
    {
     "data": {
      "application/vnd.google.colaboratory.intrinsic+json": {
       "type": "string"
      },
      "text/plain": [
       "'\\nDownloads data of Crypto Currencies available on Bitmex and Binance\\n'"
      ]
     },
     "execution_count": 1,
     "metadata": {},
     "output_type": "execute_result"
    }
   ],
   "source": [
    "\"\"\"\n",
    "Downloads data of Crypto Currencies available on Bitmex and Binance\n",
    "\"\"\""
   ]
  },
  {
   "cell_type": "code",
   "execution_count": 2,
   "id": "jiWnEdFelrKt",
   "metadata": {
    "colab": {
     "base_uri": "https://localhost:8080/"
    },
    "executionInfo": {
     "elapsed": 8540,
     "status": "ok",
     "timestamp": 1658808429871,
     "user": {
      "displayName": "Paras Singh",
      "userId": "11045139175501549941"
     },
     "user_tz": -330
    },
    "id": "jiWnEdFelrKt",
    "outputId": "5dc7dc05-5c37-42ed-9303-cfb2691a22b9"
   },
   "outputs": [
    {
     "name": "stdout",
     "output_type": "stream",
     "text": [
      "Looking in indexes: https://pypi.org/simple, https://us-python.pkg.dev/colab-wheels/public/simple/\n",
      "Requirement already satisfied: bitmex in /usr/local/lib/python3.7/dist-packages (0.2.2)\n",
      "Requirement already satisfied: bravado in /usr/local/lib/python3.7/dist-packages (from bitmex) (11.0.3)\n",
      "Requirement already satisfied: typing-extensions in /usr/local/lib/python3.7/dist-packages (from bravado->bitmex) (4.1.1)\n",
      "Requirement already satisfied: python-dateutil in /usr/local/lib/python3.7/dist-packages (from bravado->bitmex) (2.8.2)\n",
      "Requirement already satisfied: simplejson in /usr/local/lib/python3.7/dist-packages (from bravado->bitmex) (3.17.6)\n",
      "Requirement already satisfied: requests>=2.17 in /usr/local/lib/python3.7/dist-packages (from bravado->bitmex) (2.23.0)\n",
      "Requirement already satisfied: msgpack in /usr/local/lib/python3.7/dist-packages (from bravado->bitmex) (1.0.4)\n",
      "Requirement already satisfied: bravado-core>=5.16.1 in /usr/local/lib/python3.7/dist-packages (from bravado->bitmex) (5.17.0)\n",
      "Requirement already satisfied: pyyaml in /usr/local/lib/python3.7/dist-packages (from bravado->bitmex) (3.13)\n",
      "Requirement already satisfied: six in /usr/local/lib/python3.7/dist-packages (from bravado->bitmex) (1.15.0)\n",
      "Requirement already satisfied: monotonic in /usr/local/lib/python3.7/dist-packages (from bravado->bitmex) (1.6)\n",
      "Requirement already satisfied: jsonschema[format]>=2.5.1 in /usr/local/lib/python3.7/dist-packages (from bravado-core>=5.16.1->bravado->bitmex) (4.3.3)\n",
      "Requirement already satisfied: pytz in /usr/local/lib/python3.7/dist-packages (from bravado-core>=5.16.1->bravado->bitmex) (2022.1)\n",
      "Requirement already satisfied: jsonref in /usr/local/lib/python3.7/dist-packages (from bravado-core>=5.16.1->bravado->bitmex) (0.2)\n",
      "Requirement already satisfied: swagger-spec-validator>=2.0.1 in /usr/local/lib/python3.7/dist-packages (from bravado-core>=5.16.1->bravado->bitmex) (2.7.4)\n",
      "Requirement already satisfied: importlib-metadata in /usr/local/lib/python3.7/dist-packages (from jsonschema[format]>=2.5.1->bravado-core>=5.16.1->bravado->bitmex) (4.12.0)\n",
      "Requirement already satisfied: pyrsistent!=0.17.0,!=0.17.1,!=0.17.2,>=0.14.0 in /usr/local/lib/python3.7/dist-packages (from jsonschema[format]>=2.5.1->bravado-core>=5.16.1->bravado->bitmex) (0.18.1)\n",
      "Requirement already satisfied: importlib-resources>=1.4.0 in /usr/local/lib/python3.7/dist-packages (from jsonschema[format]>=2.5.1->bravado-core>=5.16.1->bravado->bitmex) (5.8.0)\n",
      "Requirement already satisfied: attrs>=17.4.0 in /usr/local/lib/python3.7/dist-packages (from jsonschema[format]>=2.5.1->bravado-core>=5.16.1->bravado->bitmex) (21.4.0)\n",
      "Requirement already satisfied: fqdn in /usr/local/lib/python3.7/dist-packages (from jsonschema[format]>=2.5.1->bravado-core>=5.16.1->bravado->bitmex) (1.5.1)\n",
      "Requirement already satisfied: webcolors>=1.11 in /usr/local/lib/python3.7/dist-packages (from jsonschema[format]>=2.5.1->bravado-core>=5.16.1->bravado->bitmex) (1.12)\n",
      "Requirement already satisfied: rfc3987 in /usr/local/lib/python3.7/dist-packages (from jsonschema[format]>=2.5.1->bravado-core>=5.16.1->bravado->bitmex) (1.3.8)\n",
      "Requirement already satisfied: isoduration in /usr/local/lib/python3.7/dist-packages (from jsonschema[format]>=2.5.1->bravado-core>=5.16.1->bravado->bitmex) (20.11.0)\n",
      "Requirement already satisfied: idna in /usr/local/lib/python3.7/dist-packages (from jsonschema[format]>=2.5.1->bravado-core>=5.16.1->bravado->bitmex) (2.10)\n",
      "Requirement already satisfied: rfc3339-validator in /usr/local/lib/python3.7/dist-packages (from jsonschema[format]>=2.5.1->bravado-core>=5.16.1->bravado->bitmex) (0.1.4)\n",
      "Requirement already satisfied: jsonpointer>1.13 in /usr/local/lib/python3.7/dist-packages (from jsonschema[format]>=2.5.1->bravado-core>=5.16.1->bravado->bitmex) (2.3)\n",
      "Requirement already satisfied: uri-template in /usr/local/lib/python3.7/dist-packages (from jsonschema[format]>=2.5.1->bravado-core>=5.16.1->bravado->bitmex) (1.2.0)\n",
      "Requirement already satisfied: zipp>=3.1.0 in /usr/local/lib/python3.7/dist-packages (from importlib-resources>=1.4.0->jsonschema[format]>=2.5.1->bravado-core>=5.16.1->bravado->bitmex) (3.8.1)\n",
      "Requirement already satisfied: chardet<4,>=3.0.2 in /usr/local/lib/python3.7/dist-packages (from requests>=2.17->bravado->bitmex) (3.0.4)\n",
      "Requirement already satisfied: urllib3!=1.25.0,!=1.25.1,<1.26,>=1.21.1 in /usr/local/lib/python3.7/dist-packages (from requests>=2.17->bravado->bitmex) (1.24.3)\n",
      "Requirement already satisfied: certifi>=2017.4.17 in /usr/local/lib/python3.7/dist-packages (from requests>=2.17->bravado->bitmex) (2022.6.15)\n",
      "Requirement already satisfied: cached-property>=1.3.0 in /usr/local/lib/python3.7/dist-packages (from fqdn->jsonschema[format]>=2.5.1->bravado-core>=5.16.1->bravado->bitmex) (1.5.2)\n",
      "Requirement already satisfied: arrow>=0.15.0 in /usr/local/lib/python3.7/dist-packages (from isoduration->jsonschema[format]>=2.5.1->bravado-core>=5.16.1->bravado->bitmex) (1.2.2)\n",
      "Looking in indexes: https://pypi.org/simple, https://us-python.pkg.dev/colab-wheels/public/simple/\n",
      "Requirement already satisfied: python-binance in /usr/local/lib/python3.7/dist-packages (1.0.16)\n",
      "Requirement already satisfied: dateparser in /usr/local/lib/python3.7/dist-packages (from python-binance) (1.1.1)\n",
      "Requirement already satisfied: websockets in /usr/local/lib/python3.7/dist-packages (from python-binance) (10.3)\n",
      "Requirement already satisfied: requests in /usr/local/lib/python3.7/dist-packages (from python-binance) (2.23.0)\n",
      "Requirement already satisfied: ujson in /usr/local/lib/python3.7/dist-packages (from python-binance) (5.4.0)\n",
      "Requirement already satisfied: six in /usr/local/lib/python3.7/dist-packages (from python-binance) (1.15.0)\n",
      "Requirement already satisfied: aiohttp in /usr/local/lib/python3.7/dist-packages (from python-binance) (3.8.1)\n",
      "Requirement already satisfied: frozenlist>=1.1.1 in /usr/local/lib/python3.7/dist-packages (from aiohttp->python-binance) (1.3.0)\n",
      "Requirement already satisfied: multidict<7.0,>=4.5 in /usr/local/lib/python3.7/dist-packages (from aiohttp->python-binance) (6.0.2)\n",
      "Requirement already satisfied: async-timeout<5.0,>=4.0.0a3 in /usr/local/lib/python3.7/dist-packages (from aiohttp->python-binance) (4.0.2)\n",
      "Requirement already satisfied: asynctest==0.13.0 in /usr/local/lib/python3.7/dist-packages (from aiohttp->python-binance) (0.13.0)\n",
      "Requirement already satisfied: yarl<2.0,>=1.0 in /usr/local/lib/python3.7/dist-packages (from aiohttp->python-binance) (1.7.2)\n",
      "Requirement already satisfied: aiosignal>=1.1.2 in /usr/local/lib/python3.7/dist-packages (from aiohttp->python-binance) (1.2.0)\n",
      "Requirement already satisfied: charset-normalizer<3.0,>=2.0 in /usr/local/lib/python3.7/dist-packages (from aiohttp->python-binance) (2.1.0)\n",
      "Requirement already satisfied: attrs>=17.3.0 in /usr/local/lib/python3.7/dist-packages (from aiohttp->python-binance) (21.4.0)\n",
      "Requirement already satisfied: typing-extensions>=3.7.4 in /usr/local/lib/python3.7/dist-packages (from aiohttp->python-binance) (4.1.1)\n",
      "Requirement already satisfied: idna>=2.0 in /usr/local/lib/python3.7/dist-packages (from yarl<2.0,>=1.0->aiohttp->python-binance) (2.10)\n",
      "Requirement already satisfied: regex!=2019.02.19,!=2021.8.27,<2022.3.15 in /usr/local/lib/python3.7/dist-packages (from dateparser->python-binance) (2022.3.2)\n",
      "Requirement already satisfied: python-dateutil in /usr/local/lib/python3.7/dist-packages (from dateparser->python-binance) (2.8.2)\n",
      "Requirement already satisfied: tzlocal in /usr/local/lib/python3.7/dist-packages (from dateparser->python-binance) (1.5.1)\n",
      "Requirement already satisfied: pytz in /usr/local/lib/python3.7/dist-packages (from dateparser->python-binance) (2022.1)\n",
      "Requirement already satisfied: certifi>=2017.4.17 in /usr/local/lib/python3.7/dist-packages (from requests->python-binance) (2022.6.15)\n",
      "Requirement already satisfied: urllib3!=1.25.0,!=1.25.1,<1.26,>=1.21.1 in /usr/local/lib/python3.7/dist-packages (from requests->python-binance) (1.24.3)\n",
      "Requirement already satisfied: chardet<4,>=3.0.2 in /usr/local/lib/python3.7/dist-packages (from requests->python-binance) (3.0.4)\n"
     ]
    }
   ],
   "source": [
    "!pip install bitmex\n",
    "!pip install python-binance"
   ]
  },
  {
   "cell_type": "code",
   "execution_count": 3,
   "id": "OrEjWrQ5muNR",
   "metadata": {
    "colab": {
     "base_uri": "https://localhost:8080/"
    },
    "executionInfo": {
     "elapsed": 3510,
     "status": "ok",
     "timestamp": 1658808433376,
     "user": {
      "displayName": "Paras Singh",
      "userId": "11045139175501549941"
     },
     "user_tz": -330
    },
    "id": "OrEjWrQ5muNR",
    "outputId": "76e8501b-9392-4464-d86b-31a9aa905ad1"
   },
   "outputs": [
    {
     "name": "stdout",
     "output_type": "stream",
     "text": [
      "Drive already mounted at /content/drive; to attempt to forcibly remount, call drive.mount(\"/content/drive\", force_remount=True).\n"
     ]
    }
   ],
   "source": [
    "from google.colab import drive\n",
    "drive.mount('/content/drive')"
   ]
  },
  {
   "cell_type": "code",
   "execution_count": 4,
   "id": "AqFdg9rfOHHP",
   "metadata": {
    "executionInfo": {
     "elapsed": 1707,
     "status": "ok",
     "timestamp": 1658808435080,
     "user": {
      "displayName": "Paras Singh",
      "userId": "11045139175501549941"
     },
     "user_tz": -330
    },
    "id": "AqFdg9rfOHHP"
   },
   "outputs": [],
   "source": [
    "# IMPORTS\n",
    "import math\n",
    "import os.path\n",
    "import time\n",
    "from datetime import timedelta, datetime\n",
    "from bitmex import bitmex\n",
    "from binance.client import Client\n",
    "from dateutil import parser\n",
    "from tqdm import tqdm_notebook\n",
    "import pandas as pd"
   ]
  },
  {
   "cell_type": "code",
   "execution_count": 5,
   "id": "lScm7l84OMU1",
   "metadata": {
    "executionInfo": {
     "elapsed": 11,
     "status": "ok",
     "timestamp": 1658808435081,
     "user": {
      "displayName": "Paras Singh",
      "userId": "11045139175501549941"
     },
     "user_tz": -330
    },
    "id": "lScm7l84OMU1"
   },
   "outputs": [],
   "source": [
    "def mkdir(folder_name):\n",
    "    \"\"\"Creates folder where data is going to be stored\"\"\"\n",
    "    if not os.path.isdir(folder_name) and folder_name != '':\n",
    "        os.mkdir(folder_name)"
   ]
  },
  {
   "cell_type": "code",
   "execution_count": 6,
   "id": "BvwxOpFHOS_M",
   "metadata": {
    "executionInfo": {
     "elapsed": 10,
     "status": "ok",
     "timestamp": 1658808435081,
     "user": {
      "displayName": "Paras Singh",
      "userId": "11045139175501549941"
     },
     "user_tz": -330
    },
    "id": "BvwxOpFHOS_M"
   },
   "outputs": [],
   "source": [
    "def minutes_of_new_data(symbol, kline_size, data, source):\n",
    "    \"\"\"Calculate how many minutes of data need to be downloaded.\"\"\"\n",
    "    if len(data) > 0:\n",
    "        old = parser.parse(data[\"timestamp\"].iloc[-1])\n",
    "    elif source == \"binance\":\n",
    "        old = datetime.strptime('1 Jan 2017', '%d %b %Y')\n",
    "    elif source == \"bitmex\":\n",
    "        old = bitmex_client.Trade.Trade_getBucketed(symbol=symbol, binSize=kline_size, count=1,\\\n",
    "         reverse=False).result()[0][0]['timestamp']\n",
    "    if source == \"binance\":\n",
    "        new = pd.to_datetime(binance_client.get_klines(symbol=symbol,interval=kline_size)[-1][0]\\\n",
    "        , unit='ms')\n",
    "    if source == \"bitmex\":\n",
    "        new = bitmex_client.Trade.Trade_getBucketed(symbol=symbol, binSize=kline_size, count=1,\\\n",
    "         reverse=True).result()[0][0]['timestamp']\n",
    "    return old, new"
   ]
  },
  {
   "cell_type": "code",
   "execution_count": 7,
   "id": "JVr0Zx8kOWFo",
   "metadata": {
    "executionInfo": {
     "elapsed": 11,
     "status": "ok",
     "timestamp": 1658808435082,
     "user": {
      "displayName": "Paras Singh",
      "userId": "11045139175501549941"
     },
     "user_tz": -330
    },
    "id": "JVr0Zx8kOWFo"
   },
   "outputs": [],
   "source": [
    "def get_all_binance(symbol, kline_size, save = False):\n",
    "    \"\"\"Download data from Binance\"\"\"\n",
    "    filename = f'{symbol}-{kline_size}-data.pkl'\n",
    "    if os.path.isfile(filename):\n",
    "        data_df = pd.read_csv(filename)\n",
    "    else:\n",
    "        data_df = pd.DataFrame()\n",
    "    oldest_point, newest_point = minutes_of_new_data(symbol,kline_size, data_df, source = \"binance\")\n",
    "    delta_min = (newest_point - oldest_point).total_seconds()/60\n",
    "    available_data = math.ceil(delta_min/binsizes[kline_size])\n",
    "    if oldest_point == datetime.strptime('1 Jan 2017', '%d %b %Y'):\n",
    "        print(f'Downloading all available {kline_size} data for {symbol}. Be patient..!')\n",
    "    else:\n",
    "        print(f'Downloading {delta_min} minutes of new data available for {symbol}, i.e.' +\n",
    "        f'{available_data} instances of {kline_size} data.')\n",
    "    klines = binance_client.get_historical_klines(symbol, kline_size, oldest_point.strftime\\\n",
    "    (\"%d %b %Y %H:%M:%S\"), newest_point.strftime(\"%d %b %Y %H:%M:%S\"))\n",
    "    data = pd.DataFrame(klines, columns = ['timestamp', 'open', 'high', 'low', 'close',\n",
    "     'volume', 'close_time', 'quote_av', 'trades', 'tb_base_av', 'tb_quote_av', 'ignore' ])\n",
    "    data['timestamp'] = pd.to_datetime(data['timestamp'], unit='ms')\n",
    "    if len(data_df) > 0:\n",
    "        temp_df = pd.DataFrame(data)\n",
    "        data_df = data_df.append(temp_df)\n",
    "    else:\n",
    "        data_df = data\n",
    "    data_df.set_index('timestamp', inplace=True)\n",
    "    if save:\n",
    "        data_df.to_pickle(BIN_PATH + filename)\n",
    "    print('All caught up..!')\n",
    "    return data_df"
   ]
  },
  {
   "cell_type": "code",
   "execution_count": 8,
   "id": "NULdsA-eOa5B",
   "metadata": {
    "executionInfo": {
     "elapsed": 11,
     "status": "ok",
     "timestamp": 1658808435083,
     "user": {
      "displayName": "Paras Singh",
      "userId": "11045139175501549941"
     },
     "user_tz": -330
    },
    "id": "NULdsA-eOa5B"
   },
   "outputs": [],
   "source": [
    "\n",
    "def get_all_bitmex(symbol, kline_size, save = False):\n",
    "    \"\"\"Download data from Bitmex\"\"\"\n",
    "    filename = f'{symbol}-{kline_size}-data.pkl'\n",
    "    if os.path.isfile(filename):\n",
    "        data_df = pd.read_csv(filename)\n",
    "    else:\n",
    "        data_df = pd.DataFrame()\n",
    "    oldest_point, newest_point = minutes_of_new_data(symbol, kline_size, data_df, source = \"bitmex\")\n",
    "    delta_min = (newest_point - oldest_point).total_seconds()/60\n",
    "    available_data = math.ceil(delta_min/binsizes[kline_size])\n",
    "    rounds = math.ceil(available_data / BATCH_SIZE)\n",
    "    if rounds > 0:\n",
    "        print(f'Downloading {delta_min} minutes of new data available for {symbol}, i.e.' +\n",
    "        f'{available_data} instances of {kline_size} data.')\n",
    "        for round_num in tqdm_notebook(range(rounds)):\n",
    "            time.sleep(1)\n",
    "            new_time = (oldest_point + timedelta(minutes = round_num * BATCH_SIZE * binsizes\\\n",
    "            [kline_size]))\n",
    "            data = bitmex_client.Trade.Trade_getBucketed(symbol=symbol, binSize=kline_size, \\\n",
    "            count=BATCH_SIZE, startTime = new_time).result()[0]\n",
    "            temp_df = pd.DataFrame(data)\n",
    "            data_df = pd.concat([data_df,temp_df], axis = 0)\n",
    "    data_df.set_index('timestamp', inplace=True)\n",
    "    if save and rounds > 0:\n",
    "        data_df.to_pickle(BIT_PATH + filename)\n",
    "    print('All caught up..!')\n",
    "    return data_df"
   ]
  },
  {
   "cell_type": "code",
   "execution_count": 9,
   "id": "LodjgEh0Ofjv",
   "metadata": {
    "executionInfo": {
     "elapsed": 11,
     "status": "ok",
     "timestamp": 1658808435084,
     "user": {
      "displayName": "Paras Singh",
      "userId": "11045139175501549941"
     },
     "user_tz": -330
    },
    "id": "LodjgEh0Ofjv"
   },
   "outputs": [],
   "source": [
    "#output_path\n",
    "BIN_PATH = '/content/drive/MyDrive/Crypto Data/Pickle/'\n",
    "BIT_PATH = 'BITMEX/'\n",
    "mkdir(BIN_PATH)\n",
    "mkdir(BIT_PATH)"
   ]
  },
  {
   "cell_type": "code",
   "execution_count": 10,
   "id": "fCtEQE2ZOhxH",
   "metadata": {
    "executionInfo": {
     "elapsed": 11,
     "status": "ok",
     "timestamp": 1658808435084,
     "user": {
      "displayName": "Paras Singh",
      "userId": "11045139175501549941"
     },
     "user_tz": -330
    },
    "id": "fCtEQE2ZOhxH"
   },
   "outputs": [],
   "source": [
    "### API\n",
    "#Enter your own API-key here\n",
    "BITMEX_API_KEY = ''\n",
    "#Enter your own API-secret here\n",
    "BITMEX_API_SECRET = ''\n",
    "#Enter your own API-key here\n",
    "BINANCE_API_KEY = ''\n",
    "#Enter your own API-secret here\n",
    "BINANCE_API_SECRET = ''"
   ]
  },
  {
   "cell_type": "code",
   "execution_count": 11,
   "id": "4Kz8kfwyOjms",
   "metadata": {
    "colab": {
     "base_uri": "https://localhost:8080/"
    },
    "executionInfo": {
     "elapsed": 3585,
     "status": "ok",
     "timestamp": 1658808438659,
     "user": {
      "displayName": "Paras Singh",
      "userId": "11045139175501549941"
     },
     "user_tz": -330
    },
    "id": "4Kz8kfwyOjms",
    "outputId": "23f30b3f-b82b-42fe-e0dc-cd5c04f5190b"
   },
   "outputs": [
    {
     "name": "stderr",
     "output_type": "stream",
     "text": [
      "/usr/local/lib/python3.7/dist-packages/swagger_spec_validator/validator20.py:52: SwaggerValidationWarning: Found \"$ref: #/definitions/UserPreferences\" with siblings that will be overwritten. See https://stackoverflow.com/a/48114924 for more information. (path #/definitions/User/properties/preferences)\n",
      "  ref_dict['$ref'], '/'.join(path),\n"
     ]
    }
   ],
   "source": [
    "### CONSTANTS\n",
    "binsizes = {\"1m\": 1, \"5m\": 5, \"15m\":15, \"30m\":30,\"1h\": 60, \"1d\": 1440}\n",
    "BATCH_SIZE = 750\n",
    "bitmex_client = bitmex(test=False, api_key=BITMEX_API_KEY, api_secret=BITMEX_API_SECRET)\n",
    "binance_client = Client(api_key=BINANCE_API_KEY, api_secret=BINANCE_API_SECRET)"
   ]
  },
  {
   "cell_type": "code",
   "execution_count": 12,
   "id": "82QyK3p-OmCB",
   "metadata": {
    "executionInfo": {
     "elapsed": 13,
     "status": "ok",
     "timestamp": 1658808438659,
     "user": {
      "displayName": "Paras Singh",
      "userId": "11045139175501549941"
     },
     "user_tz": -330
    },
    "id": "82QyK3p-OmCB"
   },
   "outputs": [],
   "source": [
    "ticker = ['ETHUSDT', 'BTCUSDT', 'XRPUSDT', 'BUSDUSDT', 'USDCUSDT', 'BNBUSDT', 'ADAUSDT', 'LTCUSDT']\n",
    "size = [\"5m\", \"15m\", \"30m\", \"1h\"]"
   ]
  },
  {
   "cell_type": "code",
   "execution_count": 13,
   "id": "heQ_Te7EohMP",
   "metadata": {
    "executionInfo": {
     "elapsed": 13,
     "status": "ok",
     "timestamp": 1658808438660,
     "user": {
      "displayName": "Paras Singh",
      "userId": "11045139175501549941"
     },
     "user_tz": -330
    },
    "id": "heQ_Te7EohMP"
   },
   "outputs": [],
   "source": [
    "batches = [(i,j) for i in ticker for j in size]"
   ]
  },
  {
   "cell_type": "code",
   "execution_count": 14,
   "id": "gihe-vwVonG8",
   "metadata": {
    "colab": {
     "base_uri": "https://localhost:8080/"
    },
    "executionInfo": {
     "elapsed": 13,
     "status": "ok",
     "timestamp": 1658808438661,
     "user": {
      "displayName": "Paras Singh",
      "userId": "11045139175501549941"
     },
     "user_tz": -330
    },
    "id": "gihe-vwVonG8",
    "outputId": "133fcfcc-967c-493d-842c-96fc550c6b95"
   },
   "outputs": [
    {
     "data": {
      "text/plain": [
       "[('ETHUSDT', '5m'),\n",
       " ('ETHUSDT', '15m'),\n",
       " ('ETHUSDT', '30m'),\n",
       " ('ETHUSDT', '1h'),\n",
       " ('BTCUSDT', '5m'),\n",
       " ('BTCUSDT', '15m'),\n",
       " ('BTCUSDT', '30m'),\n",
       " ('BTCUSDT', '1h'),\n",
       " ('XRPUSDT', '5m'),\n",
       " ('XRPUSDT', '15m'),\n",
       " ('XRPUSDT', '30m'),\n",
       " ('XRPUSDT', '1h'),\n",
       " ('BUSDUSDT', '5m'),\n",
       " ('BUSDUSDT', '15m'),\n",
       " ('BUSDUSDT', '30m'),\n",
       " ('BUSDUSDT', '1h'),\n",
       " ('USDCUSDT', '5m'),\n",
       " ('USDCUSDT', '15m'),\n",
       " ('USDCUSDT', '30m'),\n",
       " ('USDCUSDT', '1h'),\n",
       " ('BNBUSDT', '5m'),\n",
       " ('BNBUSDT', '15m'),\n",
       " ('BNBUSDT', '30m'),\n",
       " ('BNBUSDT', '1h'),\n",
       " ('ADAUSDT', '5m'),\n",
       " ('ADAUSDT', '15m'),\n",
       " ('ADAUSDT', '30m'),\n",
       " ('ADAUSDT', '1h'),\n",
       " ('LTCUSDT', '5m'),\n",
       " ('LTCUSDT', '15m'),\n",
       " ('LTCUSDT', '30m'),\n",
       " ('LTCUSDT', '1h')]"
      ]
     },
     "execution_count": 14,
     "metadata": {},
     "output_type": "execute_result"
    }
   ],
   "source": [
    "batches"
   ]
  },
  {
   "cell_type": "code",
   "execution_count": 32,
   "id": "BSax2_0zOoxA",
   "metadata": {
    "colab": {
     "base_uri": "https://localhost:8080/"
    },
    "executionInfo": {
     "elapsed": 3454371,
     "status": "ok",
     "timestamp": 1658814177849,
     "user": {
      "displayName": "Paras Singh",
      "userId": "11045139175501549941"
     },
     "user_tz": -330
    },
    "id": "BSax2_0zOoxA",
    "outputId": "7dbbf858-eb9b-4f1e-c136-1b1fc0d4e5c3"
   },
   "outputs": [
    {
     "name": "stdout",
     "output_type": "stream",
     "text": [
      "Downloading all available 5m data for ETHUSDT. Be patient..!\n",
      "All caught up..!\n",
      "Downloading all available 15m data for ETHUSDT. Be patient..!\n",
      "All caught up..!\n",
      "Downloading all available 30m data for ETHUSDT. Be patient..!\n",
      "All caught up..!\n",
      "Downloading all available 1h data for ETHUSDT. Be patient..!\n",
      "All caught up..!\n",
      "Downloading all available 5m data for BTCUSDT. Be patient..!\n",
      "All caught up..!\n",
      "Downloading all available 15m data for BTCUSDT. Be patient..!\n",
      "All caught up..!\n",
      "Downloading all available 30m data for BTCUSDT. Be patient..!\n",
      "All caught up..!\n",
      "Downloading all available 1h data for BTCUSDT. Be patient..!\n",
      "All caught up..!\n",
      "Downloading all available 5m data for XRPUSDT. Be patient..!\n",
      "All caught up..!\n",
      "Downloading all available 15m data for XRPUSDT. Be patient..!\n",
      "All caught up..!\n",
      "Downloading all available 30m data for XRPUSDT. Be patient..!\n",
      "All caught up..!\n",
      "Downloading all available 1h data for XRPUSDT. Be patient..!\n",
      "All caught up..!\n",
      "Downloading all available 5m data for BUSDUSDT. Be patient..!\n",
      "All caught up..!\n",
      "Downloading all available 15m data for BUSDUSDT. Be patient..!\n",
      "All caught up..!\n",
      "Downloading all available 30m data for BUSDUSDT. Be patient..!\n",
      "All caught up..!\n",
      "Downloading all available 1h data for BUSDUSDT. Be patient..!\n",
      "All caught up..!\n",
      "Downloading all available 5m data for USDCUSDT. Be patient..!\n",
      "All caught up..!\n",
      "Downloading all available 15m data for USDCUSDT. Be patient..!\n",
      "All caught up..!\n",
      "Downloading all available 30m data for USDCUSDT. Be patient..!\n",
      "All caught up..!\n",
      "Downloading all available 1h data for USDCUSDT. Be patient..!\n",
      "All caught up..!\n",
      "Downloading all available 5m data for BNBUSDT. Be patient..!\n",
      "All caught up..!\n",
      "Downloading all available 15m data for BNBUSDT. Be patient..!\n",
      "All caught up..!\n",
      "Downloading all available 30m data for BNBUSDT. Be patient..!\n",
      "All caught up..!\n",
      "Downloading all available 1h data for BNBUSDT. Be patient..!\n",
      "All caught up..!\n",
      "Downloading all available 5m data for ADAUSDT. Be patient..!\n",
      "All caught up..!\n",
      "Downloading all available 15m data for ADAUSDT. Be patient..!\n",
      "All caught up..!\n",
      "Downloading all available 30m data for ADAUSDT. Be patient..!\n",
      "All caught up..!\n",
      "Downloading all available 1h data for ADAUSDT. Be patient..!\n",
      "All caught up..!\n",
      "Downloading all available 5m data for LTCUSDT. Be patient..!\n",
      "All caught up..!\n",
      "Downloading all available 15m data for LTCUSDT. Be patient..!\n",
      "All caught up..!\n",
      "Downloading all available 30m data for LTCUSDT. Be patient..!\n",
      "All caught up..!\n",
      "Downloading all available 1h data for LTCUSDT. Be patient..!\n",
      "All caught up..!\n"
     ]
    }
   ],
   "source": [
    "for i in batches:\n",
    "    df = get_all_binance(i[0], i[1], save = True)"
   ]
  },
  {
   "cell_type": "code",
   "execution_count": null,
   "id": "PF9gGtFP0aUV",
   "metadata": {
    "id": "PF9gGtFP0aUV"
   },
   "outputs": [],
   "source": []
  }
 ],
 "metadata": {
  "colab": {
   "collapsed_sections": [],
   "name": "Data Downloader.ipynb",
   "provenance": []
  },
  "kernelspec": {
   "display_name": "Python 3 (ipykernel)",
   "language": "python",
   "name": "python3"
  },
  "language_info": {
   "codemirror_mode": {
    "name": "ipython",
    "version": 3
   },
   "file_extension": ".py",
   "mimetype": "text/x-python",
   "name": "python",
   "nbconvert_exporter": "python",
   "pygments_lexer": "ipython3",
   "version": "3.9.7"
  }
 },
 "nbformat": 4,
 "nbformat_minor": 5
}
